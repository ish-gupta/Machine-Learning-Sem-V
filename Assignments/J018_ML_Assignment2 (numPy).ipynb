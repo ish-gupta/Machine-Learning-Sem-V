{
 "cells": [
  {
   "cell_type": "markdown",
   "metadata": {},
   "source": [
    "# Assignment 2: Implementation of numPy\n",
    "\n",
    "### *Name: Ishita Gupta*\n",
    "### *Roll No: J018*"
   ]
  },
  {
   "cell_type": "code",
   "execution_count": 1,
   "metadata": {},
   "outputs": [],
   "source": [
    "import numpy as np\n",
    "import time"
   ]
  },
  {
   "cell_type": "markdown",
   "metadata": {},
   "source": [
    "### Defining matrices"
   ]
  },
  {
   "cell_type": "code",
   "execution_count": 4,
   "metadata": {},
   "outputs": [],
   "source": [
    "A = np.random.randn(3,3)\n",
    "B = np.random.randn(3,3)\n",
    "C = np.random.randn(3,3)\n",
    "I = np.identity(3)"
   ]
  },
  {
   "cell_type": "code",
   "execution_count": 8,
   "metadata": {},
   "outputs": [
    {
     "name": "stdout",
     "output_type": "stream",
     "text": [
      "A:\n",
      " [[ 1.04408091  0.1496757  -0.25247508]\n",
      " [ 0.84703683  0.50577368  0.39264502]\n",
      " [ 0.14184493 -1.14321737  0.63979663]]\n",
      "B:\n",
      " [[ 1.04408091  0.1496757  -0.25247508]\n",
      " [ 0.84703683  0.50577368  0.39264502]\n",
      " [ 0.14184493 -1.14321737  0.63979663]]\n",
      "C:\n",
      " [[ 1.04408091  0.1496757  -0.25247508]\n",
      " [ 0.84703683  0.50577368  0.39264502]\n",
      " [ 0.14184493 -1.14321737  0.63979663]]\n",
      "I:\n",
      " [[1. 0. 0.]\n",
      " [0. 1. 0.]\n",
      " [0. 0. 1.]]\n"
     ]
    }
   ],
   "source": [
    "print(\"A:\\n\",A)\n",
    "print(\"B:\\n\",A)\n",
    "print(\"C:\\n\",A)\n",
    "print(\"I:\\n\",I)"
   ]
  },
  {
   "cell_type": "markdown",
   "metadata": {},
   "source": [
    "### Proving properties of matrix multiplication"
   ]
  },
  {
   "cell_type": "markdown",
   "metadata": {},
   "source": [
    "#### 1. Not Commutative (A.B != B.A)"
   ]
  },
  {
   "cell_type": "code",
   "execution_count": 15,
   "metadata": {},
   "outputs": [
    {
     "name": "stdout",
     "output_type": "stream",
     "text": [
      "A.B:\n",
      " [[-0.60275725 -0.15820504 -0.90527951]\n",
      " [ 0.44433724 -0.03313252 -0.60072812]\n",
      " [-1.12238553 -1.79043471  0.10847131]]\n",
      "\n",
      "\n",
      "B.A:\n",
      " [[-1.12375392  0.58885892 -0.54340987]\n",
      " [ 2.35647728  0.84806681  0.09805179]\n",
      " [ 0.28184771 -0.48696227 -0.25173136]]\n"
     ]
    }
   ],
   "source": [
    "AB = A.dot(B)\n",
    "BA = B.dot(A)\n",
    "\n",
    "print(\"A.B:\\n\", AB)\n",
    "print(\"\\n\")\n",
    "print(\"B.A:\\n\", BA)"
   ]
  },
  {
   "cell_type": "markdown",
   "metadata": {},
   "source": [
    "##### The matrices are not equal. Hence, proved."
   ]
  },
  {
   "cell_type": "markdown",
   "metadata": {},
   "source": [
    "#### 2. Associative ((A.B)C = (A)B.C)"
   ]
  },
  {
   "cell_type": "code",
   "execution_count": 22,
   "metadata": {},
   "outputs": [
    {
     "name": "stdout",
     "output_type": "stream",
     "text": [
      "(A.B)C\n",
      " [[ 0.65965469 -1.04957564 -0.38168464]\n",
      " [ 1.05764179 -1.0974695   0.10204877]\n",
      " [-0.15184529 -2.99219382 -0.43714125]]\n",
      "\n",
      "\n",
      "(A)B.C\n",
      " [[ 0.65965469 -1.04957564 -0.38168464]\n",
      " [ 1.05764179 -1.0974695   0.10204877]\n",
      " [-0.15184529 -2.99219382 -0.43714125]]\n"
     ]
    }
   ],
   "source": [
    "ABc = np.dot(A,B).dot(C)\n",
    "aBC = A.dot(np.dot(B,C))\n",
    "\n",
    "print('(A.B)C\\n', ABc)\n",
    "print(\"\\n\")\n",
    "print('(A)B.C\\n', aBC)"
   ]
  },
  {
   "cell_type": "markdown",
   "metadata": {},
   "source": [
    "##### The matrices are equal. Hence, proved."
   ]
  },
  {
   "cell_type": "markdown",
   "metadata": {},
   "source": [
    "#### 3. Distributive (A(B+C) = AB + AC)"
   ]
  },
  {
   "cell_type": "code",
   "execution_count": 19,
   "metadata": {},
   "outputs": [
    {
     "name": "stdout",
     "output_type": "stream",
     "text": [
      "A(B+C)\n",
      " [[ 0.42852374 -0.83101335 -0.50263853]\n",
      " [ 0.40576657  0.97982402 -0.19323819]\n",
      " [-1.21752267 -3.56989118  0.27296332]]\n",
      "\n",
      "\n",
      "AB + AC\n",
      " [[ 0.42852374 -0.83101335 -0.50263853]\n",
      " [ 0.40576657  0.97982402 -0.19323819]\n",
      " [-1.21752267 -3.56989118  0.27296332]]\n"
     ]
    }
   ],
   "source": [
    "p = np.dot(A, B + C)\n",
    "q = np.dot(A,B) + np.dot(A,C)\n",
    "\n",
    "print('A(B+C)\\n', p)\n",
    "print(\"\\n\")\n",
    "print('AB + AC\\n', q)"
   ]
  },
  {
   "cell_type": "markdown",
   "metadata": {},
   "source": [
    "##### The matrices are equal. Hence, proved."
   ]
  },
  {
   "cell_type": "markdown",
   "metadata": {},
   "source": [
    "#### 4. Identity Multiplication (AI = IA)"
   ]
  },
  {
   "cell_type": "code",
   "execution_count": 21,
   "metadata": {},
   "outputs": [
    {
     "name": "stdout",
     "output_type": "stream",
     "text": [
      "A.I\n",
      " [[ 1.04408091  0.1496757  -0.25247508]\n",
      " [ 0.84703683  0.50577368  0.39264502]\n",
      " [ 0.14184493 -1.14321737  0.63979663]]\n",
      "\n",
      "\n",
      "I.A\n",
      " [[ 1.04408091  0.1496757  -0.25247508]\n",
      " [ 0.84703683  0.50577368  0.39264502]\n",
      " [ 0.14184493 -1.14321737  0.63979663]]\n"
     ]
    }
   ],
   "source": [
    "AI=np.dot(A,I)\n",
    "IA=np.dot(I,A)\n",
    "\n",
    "print('A.I\\n', AI)\n",
    "print(\"\\n\")\n",
    "print('I.A\\n', IA)"
   ]
  },
  {
   "cell_type": "markdown",
   "metadata": {},
   "source": [
    "##### The matrices are equal. Hence, proved."
   ]
  },
  {
   "cell_type": "markdown",
   "metadata": {},
   "source": [
    "### Matrix Inverse"
   ]
  },
  {
   "cell_type": "code",
   "execution_count": 24,
   "metadata": {},
   "outputs": [
    {
     "name": "stdout",
     "output_type": "stream",
     "text": [
      "Inverse of A:\n",
      " [[ 0.77530792  0.19358024  0.18714949]\n",
      " [-0.48802238  0.70639662 -0.6260999 ]\n",
      " [-1.04390853  1.21930387  0.4027616 ]]\n"
     ]
    }
   ],
   "source": [
    "A_inv = np.linalg.inv(A) \n",
    "\n",
    "print(\"Inverse of A:\\n\", A_inv)"
   ]
  },
  {
   "cell_type": "markdown",
   "metadata": {},
   "source": [
    "### numPy vs Looping  (Time Difference)"
   ]
  },
  {
   "cell_type": "code",
   "execution_count": 26,
   "metadata": {},
   "outputs": [],
   "source": [
    "P = np.random.randn(10000,10000)\n",
    "Q = np.random.randn(10000,10000)\n",
    "p = [list(i)for i in P]\n",
    "q = [list(i)for i in Q]"
   ]
  },
  {
   "cell_type": "code",
   "execution_count": 27,
   "metadata": {},
   "outputs": [],
   "source": [
    "start_loop = time.time()\n",
    "r = []\n",
    "\n",
    "for i in range(10000):\n",
    "    row=[]\n",
    "    for j in range(10000):\n",
    "        row.append(p[i][j]+q[i][j])\n",
    "    r.append(row)\n",
    "    \n",
    "end_loop=time.time()"
   ]
  },
  {
   "cell_type": "code",
   "execution_count": 28,
   "metadata": {},
   "outputs": [],
   "source": [
    "start_numpy = time.time()\n",
    "R = P + Q\n",
    "end_numpy = time.time()"
   ]
  },
  {
   "cell_type": "code",
   "execution_count": 29,
   "metadata": {},
   "outputs": [
    {
     "name": "stdout",
     "output_type": "stream",
     "text": [
      "Time taken by loops = 1504.634391784668 seconds\n",
      "Time taken by numPy = 313.792498588562 seconds\n"
     ]
    }
   ],
   "source": [
    "print(f'Time taken by loops = {end_loop - start_loop} seconds') \n",
    "print(f'Time taken by numPy = {end_numpy - start_numpy} seconds')"
   ]
  },
  {
   "cell_type": "markdown",
   "metadata": {},
   "source": [
    "##### This clearly shows that numPy is way faster than loops."
   ]
  }
 ],
 "metadata": {
  "kernelspec": {
   "display_name": "Python 3",
   "language": "python",
   "name": "python3"
  },
  "language_info": {
   "codemirror_mode": {
    "name": "ipython",
    "version": 3
   },
   "file_extension": ".py",
   "mimetype": "text/x-python",
   "name": "python",
   "nbconvert_exporter": "python",
   "pygments_lexer": "ipython3",
   "version": "3.8.8"
  }
 },
 "nbformat": 4,
 "nbformat_minor": 4
}
