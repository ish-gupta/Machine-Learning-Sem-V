{
 "cells": [
  {
   "cell_type": "markdown",
   "metadata": {},
   "source": [
    "# Assignment 1: 30 Days of Coding (HackerRank)\n",
    "\n",
    "### *Name: Ishita Gupta*\n",
    "### *Roll No: J018*"
   ]
  },
  {
   "cell_type": "markdown",
   "metadata": {},
   "source": [
    "### **Day 0: Hello, World.**\n",
    "\n",
    "#### *Question Summary: Save a line of input from stdin to a variable, print Hello, World. on a single line, and finally print the value of your variable on a second line.* "
   ]
  },
  {
   "cell_type": "code",
   "execution_count": 6,
   "metadata": {},
   "outputs": [
    {
     "name": "stdout",
     "output_type": "stream",
     "text": [
      "Enter string: Hello, this is Day 0!\n",
      "Hello, World.\n",
      "Hello, this is Day 0!\n"
     ]
    }
   ],
   "source": [
    "#Day 0 Code\n",
    "\n",
    "input_string = input(\"Enter string: \")\n",
    "\n",
    "print('Hello, World.')\n",
    "print(input_string)"
   ]
  },
  {
   "cell_type": "markdown",
   "metadata": {},
   "source": [
    "### **Day 1: Data Types**\n",
    "\n",
    "#### *Question Summary: Declare 3 variables one of type int, one of type double, and one of type String. Read 3 lines of input from stdin (according to the sequence given in the Input Format section below) and initialize your 3 variables. Use the + operator to perform the following operations: Print the sum of i plus your int variable on a new line. Print the sum of d plus your double variable to a scale of one decimal place on a new line. Concatenate s with the string you read as input and print the result on a new line.* "
   ]
  },
  {
   "cell_type": "code",
   "execution_count": 5,
   "metadata": {},
   "outputs": [
    {
     "name": "stdout",
     "output_type": "stream",
     "text": [
      "Declare integer variable: 8\n",
      "Declare float variable: 3.4\n",
      "Declare String integer: \"umbrella\"\n",
      "12\n",
      "5.4\n",
      "carry\"umbrella\"\n"
     ]
    }
   ],
   "source": [
    "#Day 1 Code\n",
    "\n",
    "i = 4\n",
    "d = 2.0\n",
    "s = \"carry\"\n",
    "\n",
    "a = int(input(\"Declare integer variable: \"))\n",
    "b = float(input(\"Declare float variable: \"))\n",
    "c = input(\"Declare String integer: \")\n",
    "\n",
    "print(i+a)\n",
    "\n",
    "print(d+b)\n",
    "\n",
    "print(s+c)"
   ]
  },
  {
   "cell_type": "markdown",
   "metadata": {},
   "source": [
    "### **Day 2: Operators**\n",
    "\n",
    "#### *Question Summary: Given the meal price (base cost of a meal), tip per cent (the percentage of the meal price being added as a tip), and tax per cent (the percentage of the meal price being added as tax) for a meal, find and print the meal’s total cost.* "
   ]
  },
  {
   "cell_type": "code",
   "execution_count": 7,
   "metadata": {},
   "outputs": [
    {
     "name": "stdout",
     "output_type": "stream",
     "text": [
      "Enter cost of meal: 2000\n",
      "Enter tip percent: 10\n",
      "Enter tax percent: 18\n",
      "The total meal cost is 2560 INR.\n"
     ]
    }
   ],
   "source": [
    "#Day 2 Code\n",
    "\n",
    "mealCost = float(input(\"Enter cost of meal in INR: \"))\n",
    "tip = int(input(\"Enter tip percent: \"))\n",
    "tax = int(input(\"Enter tax percent: \"))\n",
    "tip=tip*mealCost/100;\n",
    "tax=tax*mealCost/100;\n",
    "totalcost=mealCost+tip+tax;\n",
    "\n",
    "print (\"The total meal cost is %s INR.\" %str(int(round(totalcost, 0))))"
   ]
  },
  {
   "cell_type": "markdown",
   "metadata": {},
   "source": [
    "### **Day 3: Intro to Conditional Statements**\n",
    "\n",
    "#### *Question Summary: If ‘n‘ is odd, print Weird; If ‘n‘ is even and in the inclusive range of 2 to 5, print Not Weird; If ‘n‘ is even and in the inclusive range of 6 to 20, print Weird; If ‘n‘ is even and greater than 20, print Not Weird.* "
   ]
  },
  {
   "cell_type": "code",
   "execution_count": 9,
   "metadata": {},
   "outputs": [
    {
     "name": "stdout",
     "output_type": "stream",
     "text": [
      "Enter n: 30\n",
      "Not Weird\n"
     ]
    }
   ],
   "source": [
    "#Day 3 Code\n",
    "\n",
    "n = int(input(\"Enter n: \").strip())\n",
    "\n",
    "if n%2==1:\n",
    "    ans = \"Weird\"\n",
    "\n",
    "elif n>20:\n",
    "    ans = \"Not Weird\"\n",
    "\n",
    "elif n>=6:\n",
    "    ans = \"Weird\"\n",
    "\n",
    "else:\n",
    "    ans = \"Not Weird\"\n",
    "\n",
    "print(ans)"
   ]
  },
  {
   "cell_type": "markdown",
   "metadata": {},
   "source": [
    "### **Day 4: Class vs Instance**\n",
    "\n",
    "#### *Question Summary: Write a Person class with an instance variable, age, and a constructor that takes an integer, initialAge, as a parameter. The constructor must assign initialAge to age after confirming the argument passed as initialAge is not negative; if a negative argument is passed as initialAge, the constructor should set age to 0 and print Age is not valid, setting age to 0.*"
   ]
  },
  {
   "cell_type": "code",
   "execution_count": 10,
   "metadata": {},
   "outputs": [],
   "source": [
    "#Day 4 Code\n",
    "\n",
    "class Person:\n",
    "    def __init__(self,initialAge):\n",
    "        if(initialAge > 0):\n",
    "            self.age = initialAge\n",
    "        else:\n",
    "            print(\"Age is not valid, setting age to 0.\")\n",
    "            self.age = 0\n",
    "\n",
    "    def amIOld(self):\n",
    "        if self.age >= 18:\n",
    "            print(\"You are old.\")\n",
    "        elif self.age >= 13:\n",
    "            print(\"You are a teenager.\")\n",
    "        else: # age < 13\n",
    "            print(\"You are young.\")\n",
    "\n",
    "    def yearPasses(self):\n",
    "        self.age += 1"
   ]
  },
  {
   "cell_type": "markdown",
   "metadata": {},
   "source": [
    "### **Day 5: Loops**\n",
    "\n",
    "#### *Question Summary: Given an integer,n, print its first 10 multiples. Each multiple n * i (where 1<=i<=10) should be printed on a new line in the form: n x i = result.* "
   ]
  },
  {
   "cell_type": "code",
   "execution_count": 11,
   "metadata": {},
   "outputs": [
    {
     "name": "stdout",
     "output_type": "stream",
     "text": [
      "Enter n: 15\n",
      "15 x 1 = 15\n",
      "15 x 2 = 30\n",
      "15 x 3 = 45\n",
      "15 x 4 = 60\n",
      "15 x 5 = 75\n",
      "15 x 6 = 90\n",
      "15 x 7 = 105\n",
      "15 x 8 = 120\n",
      "15 x 9 = 135\n",
      "15 x 10 = 150\n"
     ]
    }
   ],
   "source": [
    "#Day 5 Code\n",
    "\n",
    "n = int(input(\"Enter n: \").strip())\n",
    "for i in range(1, 11):\n",
    "    print(str(n) +\" x \" + str(i) + \" = \" + str(n*i))"
   ]
  },
  {
   "cell_type": "markdown",
   "metadata": {},
   "source": [
    "### **Day 6: Let’s Review**\n",
    "\n",
    "#### *Question Summary: Given a string, S, of length N that is indexed from 0 to N-1, print its even-indexed and odd-indexed characters as 2 space-separated strings on a single line* "
   ]
  },
  {
   "cell_type": "code",
   "execution_count": 20,
   "metadata": {},
   "outputs": [
    {
     "name": "stdout",
     "output_type": "stream",
     "text": [
      "Enter string: arnoldschwarzenegger\n",
      "anlshaznge  rodcwreegr\n"
     ]
    }
   ],
   "source": [
    "#Day 6 Code\n",
    "\n",
    "def printEven(s):\n",
    "    l = len(s)\n",
    "    output = \"\"\n",
    "    for i in range(0,l,2):\n",
    "        output += s[i]\n",
    "    return output\n",
    "\n",
    "def printOdd(s):\n",
    "    l = len(s)\n",
    "    output = \"\"\n",
    "    for i in range(1,l,2):\n",
    "        output += s[i]\n",
    "    return output\n",
    "\n",
    "s = input(\"Enter string: \")\n",
    "\n",
    "print(printEven(s) + \"  \" + printOdd(s))"
   ]
  },
  {
   "cell_type": "markdown",
   "metadata": {},
   "source": [
    "### **Day 7: Arrays**\n",
    "\n",
    "#### *Question Summary: We need to  reverse the array and print the element of the array. * "
   ]
  },
  {
   "cell_type": "code",
   "execution_count": 21,
   "metadata": {},
   "outputs": [
    {
     "name": "stdout",
     "output_type": "stream",
     "text": [
      "Enter n: 5\n",
      "Enter array: 1 2 3 4 5\n",
      "5 4 3 2 1 \n"
     ]
    }
   ],
   "source": [
    "#Day 7 Code\n",
    "\n",
    "\n",
    "n = int(input(\"Enter n: \").strip())\n",
    "arr = list(map(int,input(\"Enter array: \").strip().split(' ')))\n",
    "ans = \"\"\n",
    "for i in range(len(arr)-1 , -1, -1):\n",
    "    ans += str(arr[i]) + \" \"\n",
    "\n",
    "print(ans)"
   ]
  },
  {
   "cell_type": "markdown",
   "metadata": {},
   "source": [
    "### **Day 8: Dictionaries and Maps**\n",
    "\n",
    "#### *Question Summary: Given n names and phone numbers, assemble a phone book that maps friends' names to their respective phone numbers. You will then be given an unknown number of names to query your phone book for. For each name queried, print the associated entry from your phone book on a new line in the form name=phoneNumber; if an entry for name is not found, print Not found instead..* "
   ]
  },
  {
   "cell_type": "code",
   "execution_count": 15,
   "metadata": {},
   "outputs": [
    {
     "name": "stdout",
     "output_type": "stream",
     "text": [
      "Enter n: 4\n",
      "Enter name 1 with number: Kunal 873897239\n",
      "Enter name 2 with number: Ishita 32489923489\n",
      "Enter name 3 with number: Sonia 33487283\n",
      "Enter name 4 with number: Nitin 493284923\n",
      "Enter name to search: Nitin\n",
      "Nitin=493284923\n"
     ]
    }
   ],
   "source": [
    "#Day 8 Code\n",
    "\n",
    "n = int(input(\"Enter n: \"))\n",
    "d = dict()\n",
    "\n",
    "for i in range(0, n):\n",
    "    name, number = input(\"Enter name %i with number: \" %(i+1)).split()\n",
    "    d[name] = number\n",
    "\n",
    "\n",
    "name = input(\"Enter name to search: \")\n",
    "if name in d:\n",
    "    print(f'{name}={d[name]}')\n",
    "else:\n",
    "    print(\"Not found\")"
   ]
  },
  {
   "cell_type": "markdown",
   "metadata": {},
   "source": [
    "### **Day 9: Recursion**\n",
    "\n",
    "#### *Question Summary: Return factorial of a number n taken as input.* "
   ]
  },
  {
   "cell_type": "code",
   "execution_count": 22,
   "metadata": {},
   "outputs": [
    {
     "name": "stdout",
     "output_type": "stream",
     "text": [
      "Enter number n: 16\n",
      "20922789888000\n"
     ]
    }
   ],
   "source": [
    "#Day 9 Code\n",
    "\n",
    "def factorial(n):\n",
    "    if n<=1:\n",
    "        return 1\n",
    "    else:\n",
    "        return n*factorial(n-1)\n",
    "\n",
    "n = int(input(\"Enter number n: \"))\n",
    "print(factorial(n))"
   ]
  },
  {
   "cell_type": "markdown",
   "metadata": {},
   "source": [
    "### **Day 10: Binary Numbers**\n",
    "\n",
    "#### *Question Summary: Given a base-10 integer, n, convert it to binary (base-2). Then find and print the base-10 integer denoting the maximum number of consecutive 1's in n's binary representation. When working with different bases, it is common to show the base as a subscript..* "
   ]
  },
  {
   "cell_type": "code",
   "execution_count": 43,
   "metadata": {},
   "outputs": [
    {
     "name": "stdout",
     "output_type": "stream",
     "text": [
      "Enter n: 111\n",
      "Maximum consecutive 1s:  4\n"
     ]
    }
   ],
   "source": [
    "#Day 10 Code\n",
    "\n",
    "\n",
    "def max(a,b):\n",
    "    return a if a>b else b\n",
    "\n",
    "n = int(input(\"Enter n: \").strip())\n",
    "\n",
    "max_num = 0\n",
    "count = 0\n",
    "\n",
    "while n:\n",
    "    while n&1:\n",
    "        count += 1\n",
    "        n>>=1\n",
    "        \n",
    "    max_num = max(count, max_num)\n",
    "    if not n&1:\n",
    "        count = 0\n",
    "        n>>=1\n",
    "\n",
    "print(\"Maximum consecutive 1s: \",max_num)"
   ]
  },
  {
   "cell_type": "markdown",
   "metadata": {},
   "source": [
    "### **Day 11: 2D Arrays**\n",
    "\n",
    "#### *Question Summary: Given a 6x6 2D Array, A: Calculate the hourglass sum for every hourglass in A, then print the maximum hourglass sum.* "
   ]
  },
  {
   "cell_type": "code",
   "execution_count": 47,
   "metadata": {},
   "outputs": [
    {
     "name": "stdout",
     "output_type": "stream",
     "text": [
      "Enter line 1 of array: 3 4 5 6 7 7\n",
      "Enter line 2 of array: 5 4 6 7 3 5\n",
      "Enter line 3 of array: 3 5 6 7 7 3 \n",
      "Enter line 4 of array: 2 3 5 7 4 3\n",
      "Enter line 5 of array: 2 4 5 2 2 4 \n",
      "Enter line 6 of array: 7 6 4 6 7 5\n",
      "45\n"
     ]
    }
   ],
   "source": [
    "#Day 11 Code\n",
    "\n",
    "arr = []\n",
    "for arr_i in range(6):\n",
    "    arr_temp = list(map(int,input(\"Enter line %i of array: \" %(arr_i+1)).strip().split(' ')))\n",
    "    arr.append(arr_temp)\n",
    "    \n",
    "max = 0\n",
    "\n",
    "for i in range(0,4):\n",
    "    for j in range(0,4):\n",
    "        sum = 0\n",
    "        sum= arr[i][j]+arr[i][j+1]+arr[i][j+2]+arr[i+1][j+1]+arr[i+2][j]+arr[i+2][j+1]+arr[i+2][j+2]\n",
    "        if i==0 and j==0:\n",
    "            max = sum\n",
    "        if sum > max:\n",
    "            max =sum\n",
    "\n",
    "print(max)"
   ]
  },
  {
   "cell_type": "markdown",
   "metadata": {},
   "source": [
    "### **Day 12: Inheritance**\n",
    "\n",
    "#### *Question Summary: You are given two classes, Person and Student, where Person is the base class and Student is the derived class. Completed code for Person and a declaration for Student are provided for you in the editor. Observe that Student inherits all the properties of Person.* "
   ]
  },
  {
   "cell_type": "code",
   "execution_count": 48,
   "metadata": {},
   "outputs": [],
   "source": [
    "#Day 12 Code\n",
    "\n",
    "class Student(Person):\n",
    "    def __init__(self, fName, lName, sId, scores):\n",
    "        super().__init__(fName, lName, sId)\n",
    "        self.scores = scores\n",
    "\n",
    "    def calculate(self):\n",
    "        avg = 0.0\n",
    "        for score in self.scores:\n",
    "            avg += score\n",
    "\n",
    "        avg = avg/len(self.scores)\n",
    "        if avg < 40:\n",
    "            return 'T'\n",
    "        elif avg < 55:\n",
    "            return 'D'\n",
    "        elif avg < 70:\n",
    "            return 'P'\n",
    "        elif avg < 80:\n",
    "            return 'A'\n",
    "        elif avg < 90:\n",
    "            return 'E'\n",
    "        else:\n",
    "            return 'O'"
   ]
  },
  {
   "cell_type": "markdown",
   "metadata": {},
   "source": [
    "### **Day 13: Abstract Classes**\n",
    "\n",
    "#### *Question Summary: Given a Book class and a Solution class, write a MyBook class that does the following: Inherits from Book; Has a parameterized constructor taking these parameters; Implements the Book class' abstract display() method * "
   ]
  },
  {
   "cell_type": "code",
   "execution_count": 50,
   "metadata": {},
   "outputs": [
    {
     "name": "stdout",
     "output_type": "stream",
     "text": [
      "Enter title: Hitchhiker's Guide to the Galaxy\n",
      "Enter author: Douglas Adams\n",
      "Enter price in INR600\n",
      "Title: Hitchhiker's Guide to the Galaxy\n",
      "Author: Douglas Adams\n",
      "Price: 600\n"
     ]
    }
   ],
   "source": [
    "#Day 13 Code\n",
    "\n",
    "from abc import ABCMeta, abstractmethod\n",
    "class Book(object, metaclass=ABCMeta):\n",
    "    def __init__(self,title,author):\n",
    "        self.title=title\n",
    "        self.author=author   \n",
    "    @abstractmethod\n",
    "    def display(): pass\n",
    "\n",
    "class MyBook(Book):\n",
    "    def __init__(self, title, author, price):\n",
    "        Book.__init__(self, title, author)\n",
    "        self.price = price\n",
    "\n",
    "    def display(self):\n",
    "        print('Title: ' + self.title)\n",
    "        print('Author: ' + self.author)\n",
    "        print('Price: ' + str(self.price))\n",
    "\n",
    "\n",
    "title=input(\"Enter title: \")\n",
    "author=input(\"Enter author: \")\n",
    "price=int(input(\"Enter price in INR\"))\n",
    "new_novel=MyBook(title,author,price)\n",
    "new_novel.display()\n"
   ]
  },
  {
   "cell_type": "markdown",
   "metadata": {},
   "source": [
    "### **Day 14: Scope**\n",
    "\n",
    "#### *Question Summary: A class constructor that takes an array of integers as a parameter and saves it to the elements instance variable. A computeDifference method that finds the maximum absolute difference between any 2 numbers in N and stores it in the maximumDifference instance variable.* "
   ]
  },
  {
   "cell_type": "code",
   "execution_count": 56,
   "metadata": {},
   "outputs": [
    {
     "name": "stdout",
     "output_type": "stream",
     "text": [
      "Enter numbers: 5 6 634 532 5 3 5 34 \n",
      "6\n",
      "Maximum difference:  0\n"
     ]
    }
   ],
   "source": [
    "#Day 14 Code\n",
    "\n",
    "class Difference:\n",
    "    def __init__(self, a):\n",
    "        self.__elements = a\n",
    "\n",
    "    def computeDifference(self):\n",
    "        sorted_elements = sorted(self.__elements)\n",
    "        self.maximumDifference = abs(sorted_elements[-1] - sorted_elements[0])\n",
    "\n",
    "# End of Difference class\n",
    "\n",
    "_ = input(\"Enter numbers: \")\n",
    "a = [int(e) for e in input().split(' ')]\n",
    "\n",
    "d = Difference(a)\n",
    "d.computeDifference()\n",
    "\n",
    "print(\"Maximum difference: \" , d.maximumDifference)"
   ]
  },
  {
   "cell_type": "markdown",
   "metadata": {},
   "source": [
    "### **Day 15: Linked List**\n",
    "\n",
    "#### *Question Summary: Complete the insert function in your editor so that it creates a new Node (pass data as the Node constructor argument) and inserts it at the tail of the linked list referenced by the head parameter. Once the new node is added, return the reference to the head node.* "
   ]
  },
  {
   "cell_type": "code",
   "execution_count": 59,
   "metadata": {},
   "outputs": [
    {
     "name": "stdout",
     "output_type": "stream",
     "text": [
      "Enter number of inputs: 4\n",
      "Enter number: 3\n",
      "Enter number: 2\n",
      "Enter number: 3\n",
      "Enter number: 32\n",
      "3 2 3 32 "
     ]
    }
   ],
   "source": [
    "#Day 15 Code\n",
    "\n",
    "class Node:\n",
    "    def __init__(self,data):\n",
    "        self.data = data\n",
    "        self.next = None \n",
    "        \n",
    "class Solution: \n",
    "    def display(self,head):\n",
    "        current = head\n",
    "        while current:\n",
    "            print(current.data,end=' ')\n",
    "            current = current.next\n",
    "\n",
    "    def insert(self,head,data):\n",
    "        if (head == None):\n",
    "            head = Node(data)\n",
    "        elif (head.next == None):\n",
    "            head.next = Node(data)\n",
    "        else: \n",
    "            self.insert(head.next, data)\n",
    "        return head\n",
    "\n",
    "mylist= Solution()\n",
    "T=int(input(\"Enter number of inputs: \"))\n",
    "head=None\n",
    "for i in range(T):\n",
    "    data=int(input(\"Enter number: \"))\n",
    "    head=mylist.insert(head,data)    \n",
    "    \n",
    "mylist.display(head);"
   ]
  },
  {
   "cell_type": "markdown",
   "metadata": {},
   "source": [
    "### **Day 16: Exceptions - String to Integer**\n",
    "\n",
    "#### *Question Summary: Read a string, S, and print its integer value; if S cannot be converted to an integer, print Bad String.,* "
   ]
  },
  {
   "cell_type": "code",
   "execution_count": 61,
   "metadata": {},
   "outputs": [
    {
     "name": "stdout",
     "output_type": "stream",
     "text": [
      "Enter string: hello 42\n",
      "Bad String\n"
     ]
    }
   ],
   "source": [
    "#Day 16 Code\n",
    "\n",
    "import sys\n",
    "\n",
    "S = input(\"Enter string: \").strip()\n",
    "\n",
    "try: \n",
    "    print (int(S))\n",
    "except ValueError: \n",
    "    print (\"Bad String\")"
   ]
  },
  {
   "cell_type": "markdown",
   "metadata": {},
   "source": [
    "### **Day 17: More Exceptions**\n",
    "\n",
    "#### *Question Summary: Write a Calculator class with a single method: int power(int,int). The power method takes two integers, n and p, as parameters and returns the integer result of n^p. If either n or p is negative, then the method must throw an exception with the message: n and p should be non-negative* "
   ]
  },
  {
   "cell_type": "code",
   "execution_count": 65,
   "metadata": {},
   "outputs": [
    {
     "name": "stdout",
     "output_type": "stream",
     "text": [
      "Enter number of tries: 3\n",
      "Enter n and p: 4 2\n",
      "16\n",
      "Enter n and p: 5 1\n",
      "5\n",
      "Enter n and p: 4 -3\n",
      "n and p should be non-negative\n"
     ]
    }
   ],
   "source": [
    "#Day 17 Code\n",
    "\n",
    "class e(Exception):\n",
    "    \"n and p should be non-negative\"\n",
    "\n",
    "\n",
    "class Calculator():\n",
    "    def power(self, n, p):\n",
    "        try:\n",
    "            if n | p < 0:\n",
    "                raise e\n",
    "            else:\n",
    "                return (n ** p)\n",
    "        except e:\n",
    "            return (\"n and p should be non-negative\")\n",
    "\n",
    "myCalculator=Calculator()\n",
    "T=int(input(\"Enter number of tries: \"))\n",
    "for i in range(T):\n",
    "    n,p = map(int, input(\"Enter n and p: \").split())\n",
    "    try:\n",
    "        ans=myCalculator.power(n,p)\n",
    "        print(ans)\n",
    "    except Exception as e:\n",
    "        print(e)"
   ]
  },
  {
   "cell_type": "markdown",
   "metadata": {},
   "source": [
    "### **Day 18: Queues and Stacks**\n",
    "\n",
    "#### *Question Summary: Declarations and Implementations* "
   ]
  },
  {
   "cell_type": "code",
   "execution_count": 67,
   "metadata": {},
   "outputs": [
    {
     "name": "stdout",
     "output_type": "stream",
     "text": [
      "Enter string: level\n",
      "The word, level, is a palindrome.\n"
     ]
    }
   ],
   "source": [
    "#Day 18 Code\n",
    "\n",
    "class Solution:\n",
    "    def __init__(self):\n",
    "        self.mystack = list()\n",
    "        self.myqueue = list()\n",
    "        return(None)\n",
    "\n",
    "    def pushCharacter(self, char):\n",
    "        self.mystack.append(char)\n",
    "\n",
    "    def popCharacter(self):\n",
    "        return(self.mystack.pop(-1))\n",
    "\n",
    "    def enqueueCharacter(self, char):\n",
    "        self.myqueue.append(char)\n",
    "\n",
    "    def dequeueCharacter(self):\n",
    "        return(self.myqueue.pop(0))\n",
    "\n",
    "# read the string s\n",
    "s=input(\"Enter string: \")\n",
    "\n",
    "#Create the Solution class object\n",
    "obj=Solution()   \n",
    "\n",
    "l=len(s)\n",
    "# push/enqueue all the characters of string s to stack\n",
    "for i in range(l):\n",
    "    obj.pushCharacter(s[i])\n",
    "    obj.enqueueCharacter(s[i])\n",
    "        \n",
    "isPalindrome=True\n",
    "    \n",
    "\n",
    "#pop the top character from stack, dequeue the first character from queue, compare both the characters\n",
    " \n",
    "for i in range(l // 2):\n",
    "    if obj.popCharacter()!=obj.dequeueCharacter():\n",
    "        isPalindrome=False\n",
    "        break\n",
    "        \n",
    "if isPalindrome:\n",
    "    print(\"The word, \"+s+\", is a palindrome.\")\n",
    "else:\n",
    "    print(\"The word, \"+s+\", is not a palindrome.\")\n"
   ]
  },
  {
   "cell_type": "markdown",
   "metadata": {},
   "source": [
    "### **Day 19: Interfaces**\n",
    "\n",
    "#### *Question Summary: Complete the implementation of Calculator class, which implements the AdvancedArithmetic interface. The implementation for the divisorSum(n) method must return the sum of all divisors of n.* "
   ]
  },
  {
   "cell_type": "code",
   "execution_count": 2,
   "metadata": {},
   "outputs": [
    {
     "name": "stdout",
     "output_type": "stream",
     "text": [
      "Enter n: 34\n",
      "54\n"
     ]
    }
   ],
   "source": [
    "class AdvancedArithmetic(object):\n",
    "    def divisorSum(n):\n",
    "        raise NotImplementedError\n",
    "\n",
    "class Calculator(AdvancedArithmetic):\n",
    "    def divisorSum(self, n):\n",
    "        #pass\n",
    "        x = []\n",
    "        for i in range(1, n+1):\n",
    "            if n % i == 0:\n",
    "                x.append(i)\n",
    "            else:\n",
    "                pass\n",
    "        return sum(x)\n",
    "\n",
    "n = int(input(\"Enter n: \"))\n",
    "my_calculator = Calculator()\n",
    "s = my_calculator.divisorSum(n)\n",
    "print(s)"
   ]
  },
  {
   "cell_type": "markdown",
   "metadata": {},
   "source": [
    "### **Day 20: Sorting**\n",
    "\n",
    "#### *Question Summary: Given an array, a, of size n distinct elements, sort the array in ascending order using the Bubble Sort algorithm above. Once sorted, print the following 3 lines:* "
   ]
  },
  {
   "cell_type": "code",
   "execution_count": 82,
   "metadata": {},
   "outputs": [
    {
     "name": "stdout",
     "output_type": "stream",
     "text": [
      "Enter number of elements in array n: 6\n",
      "Enter array: 4645 435463 6456456 645456 3525 346\n",
      "Array is sorted in 10 swaps.\n",
      "First Element: 346\n",
      "Last Element: 6456456\n"
     ]
    }
   ],
   "source": [
    "#Day 20 Code\n",
    "\n",
    "n = int(input(\"Enter number of elements in array n: \").strip())\n",
    "a = list(map(int, input(\"Enter array: \").strip().split(' ')))\n",
    "\n",
    "numSwaps = 0\n",
    "for i in range(n):\n",
    "    currentSwaps = 0\n",
    "    for j in range(n-1):\n",
    "        if a[j] > a[j+1]:\n",
    "            tmp = a[j]\n",
    "            a[j] = a[j+1]\n",
    "            a[j+1] = tmp\n",
    "            numSwaps += 1\n",
    "            currentSwaps += 1\n",
    "\n",
    "    if currentSwaps == 0:\n",
    "            break\n",
    "\n",
    "print('Array is sorted in ' + str(numSwaps) + ' swaps.')\n",
    "print('First Element: ' + str(a[0]))\n",
    "print('Last Element: ' + str(a[n-1]))"
   ]
  },
  {
   "cell_type": "markdown",
   "metadata": {},
   "source": [
    "### **Day 22: Binary Search Trees**\n",
    "\n",
    "#### *Question Summary: The height of a binary search tree is the number of edges between the tree's root and its furthest leaf. You are given a pointer, root, pointing to the root of a binary search tree. Complete the getHeight function provided in your editor so that it returns the height of the binary search tree.* "
   ]
  },
  {
   "cell_type": "code",
   "execution_count": 6,
   "metadata": {},
   "outputs": [
    {
     "name": "stdout",
     "output_type": "stream",
     "text": [
      "Enter T: 3\n",
      "Enter data: 4\n",
      "Enter data: 4\n",
      "Enter data: 66\n",
      "Height:  1\n"
     ]
    }
   ],
   "source": [
    "#Day 22 Code\n",
    "\n",
    "class Node:\n",
    "    def __init__(self,data):\n",
    "        self.right=self.left=None\n",
    "        self.data = data\n",
    "    \n",
    "class Solution:\n",
    "    def insert(self,root,data):\n",
    "        if root==None:\n",
    "            return Node(data)\n",
    "        else:\n",
    "            if data<=root.data:\n",
    "                cur=self.insert(root.left,data)\n",
    "                root.left=cur\n",
    "            else:\n",
    "                cur=self.insert(root.right,data)\n",
    "                root.right=cur\n",
    "        return root\n",
    "\n",
    "    def getHeight(self,root):\n",
    "        if root:\n",
    "            leftDepth = self.getHeight(root.left)\n",
    "            rightDepth = self.getHeight(root.right)\n",
    "                \n",
    "            if leftDepth > rightDepth:\n",
    "                return leftDepth + 1\n",
    "            else: \n",
    "                return rightDepth + 1\n",
    "        else:\n",
    "            return -1\n",
    "\n",
    "T=int(input(\"Enter T: \"))\n",
    "myTree=Solution()\n",
    "root=None\n",
    "for i in range(T):\n",
    "    data=int(input(\"Enter data: \"))\n",
    "    root=myTree.insert(root,data)\n",
    "height=myTree.getHeight(root)\n",
    "print(\"Height: \", height)"
   ]
  },
  {
   "cell_type": "markdown",
   "metadata": {},
   "source": [
    "### **Day 23: BST Level-Order Traversal**\n",
    "\n",
    "#### *Question Summary: A level-order traversal, also known as a breadth-first search, visits each level of a tree's nodes from left to right, top to bottom. You are given a pointer, root, pointing to the root of a binary search tree. Complete the levelOrder function provided in your editor so that it prints the level-order traversal of the binary search tree.* "
   ]
  },
  {
   "cell_type": "code",
   "execution_count": 13,
   "metadata": {},
   "outputs": [
    {
     "name": "stdout",
     "output_type": "stream",
     "text": [
      "Enter T: 5\n",
      "Enter data: 6456\n",
      "Enter data: 54754\n",
      "Enter data: 54645\n",
      "Enter data: 45645\n",
      "Enter data: 6456\n",
      "6456 6456 54754 54645 45645 "
     ]
    }
   ],
   "source": [
    "#Day 23 Code\n",
    "\n",
    "class Node:\n",
    "    def __init__(self,data):\n",
    "        self.right=self.left=None\n",
    "        self.data = data\n",
    "class Solution:\n",
    "    def insert(self,root,data):\n",
    "        if root==None:\n",
    "            return Node(data)\n",
    "        else:\n",
    "            if data<=root.data:\n",
    "                cur=self.insert(root.left,data)\n",
    "                root.left=cur\n",
    "            else:\n",
    "                cur=self.insert(root.right,data)\n",
    "                root.right=cur\n",
    "        return root\n",
    "\n",
    "    from collections import deque\n",
    "    def levelOrder(self,root):      \n",
    "\n",
    "        queue = self.deque([root]) if root else self.deque()\n",
    "\n",
    "        while queue:\n",
    "            node = queue.popleft()\n",
    "            print(node.data, end=' ')\n",
    "\n",
    "            if node.left: queue.append(node.left)\n",
    "            if node.right: queue.append(node.right)\n",
    "\n",
    "T=int(input(\"Enter T: \"))\n",
    "myTree=Solution()\n",
    "root=None\n",
    "for i in range(T):\n",
    "    data=int(input(\"Enter data: \"))\n",
    "    root=myTree.insert(root,data)\n",
    "myTree.levelOrder(root)"
   ]
  },
  {
   "cell_type": "markdown",
   "metadata": {},
   "source": [
    "##### **Day 24: More Linked Lists**\n",
    "\n",
    "#### *Question Summary: A removeDuplicates function is declared in your editor, which takes a pointer to the head node of a linked list as a parameter. Complete removeDuplicates so that it deletes any duplicate nodes from the list and returns the head of the updated list.* "
   ]
  },
  {
   "cell_type": "code",
   "execution_count": 8,
   "metadata": {},
   "outputs": [
    {
     "name": "stdout",
     "output_type": "stream",
     "text": [
      "Enter T: 4\n",
      "Enter data: 34\n",
      "Enter data: 3\n",
      "Enter data: 5\n",
      "Enter data: 46\n",
      "34 3 5 46 "
     ]
    }
   ],
   "source": [
    "#Day 24 Code\n",
    "\n",
    "class Node:\n",
    "    def __init__(self,data):\n",
    "        self.data = data\n",
    "        self.next = None \n",
    "class Solution: \n",
    "    def insert(self,head,data):\n",
    "            p = Node(data)           \n",
    "            if head==None:\n",
    "                head=p\n",
    "            elif head.next==None:\n",
    "                head.next=p\n",
    "            else:\n",
    "                start=head\n",
    "                while(start.next!=None):\n",
    "                    start=start.next\n",
    "                start.next=p\n",
    "            return head  \n",
    "    def display(self,head):\n",
    "        current = head\n",
    "        while current:\n",
    "            print(current.data,end=' ')\n",
    "            current = current.next\n",
    "\n",
    "    def removeDuplicates(self,head):\n",
    "        node = head\n",
    "\n",
    "        while node:\n",
    "            if node.next:\n",
    "                if node.data == node.next.data:\n",
    "                    node.next = node.next.next\n",
    "                    continue\n",
    "\n",
    "            node = node.next\n",
    "\n",
    "        return head\n",
    "            \n",
    "mylist= Solution()\n",
    "T=int(input(\"Enter T: \"))\n",
    "head=None\n",
    "\n",
    "for i in range(T):\n",
    "    data=int(input(\"Enter data: \"))\n",
    "    head=mylist.insert(head,data)    \n",
    "head=mylist.removeDuplicates(head)\n",
    "mylist.display(head);"
   ]
  },
  {
   "cell_type": "markdown",
   "metadata": {},
   "source": [
    "### **Day 25: Running Time and Complexity**\n",
    "\n",
    "#### *Question Summary: A prime is a natural number greater than 1 that has no positive divisors other than 1 and itself. Given a number, n, determine and print whether it's Prime or Not prime.* "
   ]
  },
  {
   "cell_type": "code",
   "execution_count": 70,
   "metadata": {},
   "outputs": [
    {
     "name": "stdout",
     "output_type": "stream",
     "text": [
      "Enter n (number of tries): 3\n",
      "Enter number: 13\n",
      "Prime\n",
      "Enter number: 27\n",
      "Not prime\n",
      "Enter number: 2\n",
      "Prime\n"
     ]
    }
   ],
   "source": [
    "#Day 25 Code\n",
    "\n",
    "\n",
    "from itertools import count, islice\n",
    "\n",
    "n = int(input(\"Enter n (number of tries): \"))\n",
    "for i in range(n):\n",
    "    x, prime = int(input(\"Enter number: \")), True\n",
    "    sq = int(x**0.5)-1\n",
    "    if x<2: prime = False\n",
    "    else:\n",
    "        for num in islice(count(2), sq):\n",
    "            if not x%num:\n",
    "                prime = False\n",
    "    print(\"Prime\") if prime else print(\"Not prime\")"
   ]
  },
  {
   "cell_type": "markdown",
   "metadata": {},
   "source": [
    "### **Day 26: Nested Logic**\n",
    "\n",
    "#### *Question Summary: Your local library needs your help! Given the expected and actual return dates for a library book, create a program that calculates the fine (if any). * "
   ]
  },
  {
   "cell_type": "code",
   "execution_count": 77,
   "metadata": {},
   "outputs": [
    {
     "name": "stdout",
     "output_type": "stream",
     "text": [
      "Enter return date: 09 01 2021\n",
      "Enter expected return date: 09 11 2020\n",
      "Fine:  10000\n"
     ]
    }
   ],
   "source": [
    "#Day 26 Code\n",
    "\n",
    "returned_date = list(map(int,input(\"Enter return date: \").split(' ')))\n",
    "expected_date = list(map(int,input(\"Enter expected return date: \").split(' ')))\n",
    "\n",
    "fine = 0\n",
    "\n",
    "if returned_date[2] > expected_date[2]:\n",
    "    fine = 10000\n",
    "elif returned_date[2] == expected_date[2]:\n",
    "    if returned_date[1] > expected_date[1]:\n",
    "        fine = (returned_date[1] - expected_date[1])*500\n",
    "    elif returned_date[1] == expected_date[1]:\n",
    "        if returned_date[0] > expected_date[0]:\n",
    "            fine = (returned_date[0] - expected_date[0])*15\n",
    "        \n",
    "print(\"Fine: \", fine)"
   ]
  },
  {
   "cell_type": "markdown",
   "metadata": {},
   "source": [
    "### **Day 27: Testing**\n",
    "\n",
    "#### *Question Summary: For a given array of n integers, the function returns the index of the element with the minimum value in the array. If there is more than one element with the minimum value, the returned index should be the smallest one. If an empty array is passed to the function, it should raise an Exception.* "
   ]
  },
  {
   "cell_type": "code",
   "execution_count": 4,
   "metadata": {},
   "outputs": [
    {
     "name": "stdout",
     "output_type": "stream",
     "text": [
      "OK\n"
     ]
    }
   ],
   "source": [
    "#Day 27 Code\n",
    "\n",
    "def minimum_index(seq):\n",
    "    if len(seq) == 0:\n",
    "        raise ValueError(\"Cannot get the minimum value index from an empty sequence\")\n",
    "    min_idx = 0\n",
    "    for i in range(1, len(seq)):\n",
    "        if seq[i] < seq[min_idx]:\n",
    "            min_idx = i\n",
    "    return min_idx\n",
    "\n",
    "class TestDataEmptyArray():\n",
    "\n",
    "    @staticmethod\n",
    "    def get_array():\n",
    "        return list()\n",
    "\n",
    "class TestDataUniqueValues():\n",
    "\n",
    "    @staticmethod\n",
    "    def get_array():\n",
    "        return [5, 2, 8, 3, 1, -6, 9]\n",
    "\n",
    "    @staticmethod\n",
    "    def get_expected_result():\n",
    "        return 5\n",
    "\n",
    "class TestDataExactlyTwoDifferentMinimums():\n",
    "\n",
    "    @staticmethod\n",
    "    def get_array():\n",
    "        return [5, 2, 8, 3, 1, -6, 9, -6, 10]\n",
    "\n",
    "    @staticmethod\n",
    "    def get_expected_result():\n",
    "        return 5\n",
    "\n",
    "\n",
    "def TestWithEmptyArray():\n",
    "    try:\n",
    "        seq = TestDataEmptyArray.get_array()\n",
    "        result = minimum_index(seq)\n",
    "    except ValueError as e:\n",
    "        pass\n",
    "    else:\n",
    "        assert False\n",
    "\n",
    "\n",
    "def TestWithUniqueValues():\n",
    "    seq = TestDataUniqueValues.get_array()\n",
    "    assert len(seq) >= 2\n",
    "\n",
    "    assert len(list(set(seq))) == len(seq)\n",
    "\n",
    "    expected_result = TestDataUniqueValues.get_expected_result()\n",
    "    result = minimum_index(seq)\n",
    "    assert result == expected_result\n",
    "\n",
    "\n",
    "def TestiWithExactyTwoDifferentMinimums():\n",
    "    seq = TestDataExactlyTwoDifferentMinimums.get_array()\n",
    "    assert len(seq) >= 2\n",
    "    tmp = sorted(seq)\n",
    "    assert tmp[0] == tmp[1] and (len(tmp) == 2 or tmp[1] < tmp[2])\n",
    "\n",
    "    expected_result = TestDataExactlyTwoDifferentMinimums.get_expected_result()\n",
    "    result = minimum_index(seq)\n",
    "    assert result == expected_result\n",
    "\n",
    "TestWithEmptyArray()\n",
    "TestWithUniqueValues()\n",
    "TestiWithExactyTwoDifferentMinimums()\n",
    "print(\"OK\")"
   ]
  },
  {
   "cell_type": "markdown",
   "metadata": {},
   "source": [
    "### **Day 28: RegEx, Patterns, and Intro to Databases**\n",
    "\n",
    "#### *Question Summary: Consider a database table, Emails, which has the attributes First Name and Email ID. Given N rows of data simulating the Emails table, print an alphabetically-ordered list of people whose email address ends in @gmail.com.* "
   ]
  },
  {
   "cell_type": "code",
   "execution_count": 87,
   "metadata": {},
   "outputs": [
    {
     "name": "stdout",
     "output_type": "stream",
     "text": [
      "Enter N: 4\n",
      "Enter Email ID: ishitangupta@gmail.com\n",
      "Enter Email ID: abc@hotmail.com\n",
      "Enter Email ID: kunal@iim.edu\n",
      "Enter Email ID: diyaranka@gmail.com\n"
     ]
    }
   ],
   "source": [
    "#Day 28 Code\n",
    "\n",
    "import re \n",
    "\n",
    "N = int(input(\"Enter N: \"))\n",
    "\n",
    "pattern = r\"@gmail\\.com$\"\n",
    "regex = re.compile(pattern)\n",
    "firstNames = []\n",
    "\n",
    "for N_itr in range(N):\n",
    "    firstNameEmailID = input(\"Enter Email ID: \").split('.')\n",
    "\n",
    "    firstName = firstNameEmailID[0]\n",
    "\n",
    "    emailID = firstNameEmailID[1]\n",
    "\n",
    "    if regex.search(emailID):\n",
    "        firstNames.append(firstName)\n",
    "\n",
    "firstNames.sort()\n",
    "\n",
    "for name in firstNames:\n",
    "    print(name)"
   ]
  },
  {
   "cell_type": "markdown",
   "metadata": {},
   "source": [
    "### **Day 29: Bitwise AND**\n",
    "\n",
    "#### *Question Summary: Given set S={1, 2, 3,..., N}. Find two integers, A and B (where A < B), from set S such that the value of A & B is the maximum possible and also less than a given integer,K . In this case, & represents the bitwise AND operator.* "
   ]
  },
  {
   "cell_type": "code",
   "execution_count": 78,
   "metadata": {},
   "outputs": [
    {
     "name": "stdout",
     "output_type": "stream",
     "text": [
      "Enter number of tries: 2\n",
      "Enter n and k: 3 4\n",
      "2\n",
      "Enter n and k: 56 78\n",
      "76\n"
     ]
    }
   ],
   "source": [
    "#Day 29 Code\n",
    "\n",
    "T = int(input(\"Enter number of tries: \").strip())\n",
    "for _ in range(T):\n",
    "    n , k = map(int , input(\"Enter n and k: \").split())\n",
    "    print(k-1 if ((k-1) | k) <= n else k-2)"
   ]
  },
  {
   "cell_type": "code",
   "execution_count": null,
   "metadata": {},
   "outputs": [],
   "source": []
  }
 ],
 "metadata": {
  "kernelspec": {
   "display_name": "Python 3",
   "language": "python",
   "name": "python3"
  },
  "language_info": {
   "codemirror_mode": {
    "name": "ipython",
    "version": 3
   },
   "file_extension": ".py",
   "mimetype": "text/x-python",
   "name": "python",
   "nbconvert_exporter": "python",
   "pygments_lexer": "ipython3",
   "version": "3.8.8"
  }
 },
 "nbformat": 4,
 "nbformat_minor": 4
}
