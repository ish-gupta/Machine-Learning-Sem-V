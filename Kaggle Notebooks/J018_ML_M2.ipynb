{
 "cells": [
  {
   "cell_type": "markdown",
   "id": "ec589d98",
   "metadata": {},
   "source": [
    "## Machine Learning M2 (NMIMS M2 Batch - 2)\n",
    "Name: Ishita Gupta\n",
    "\n",
    "Roll Number: J018"
   ]
  },
  {
   "cell_type": "markdown",
   "id": "db07a232",
   "metadata": {},
   "source": [
    "### Importing Libraries"
   ]
  },
  {
   "cell_type": "code",
   "execution_count": 69,
   "id": "6e2ca214",
   "metadata": {},
   "outputs": [],
   "source": [
    "import numpy as np\n",
    "import pandas as pd\n",
    "import seaborn as sns\n",
    "import matplotlib.pyplot as plt\n",
    "from sklearn import preprocessing\n",
    "\n",
    "from sklearn.model_selection import train_test_split\n",
    "from sklearn.metrics import mean_absolute_error\n",
    "\n",
    "from sklearn import ensemble\n",
    "from sklearn.linear_model import LinearRegression\n",
    "from sklearn.ensemble import GradientBoostingRegressor\n",
    "from xgboost import XGBRegressor\n",
    "from sklearn.tree import DecisionTreeRegressor\n",
    "from sklearn.model_selection import GridSearchCV\n",
    "import xgboost as xgb"
   ]
  },
  {
   "cell_type": "markdown",
   "id": "76708bab",
   "metadata": {},
   "source": [
    "### Reading and Visualizing Data"
   ]
  },
  {
   "cell_type": "code",
   "execution_count": 2,
   "id": "df0aece9",
   "metadata": {},
   "outputs": [],
   "source": [
    "train_df = pd.read_csv('train.csv')\n",
    "test_df = pd.read_csv('test.csv')"
   ]
  },
  {
   "cell_type": "code",
   "execution_count": 3,
   "id": "175b3031",
   "metadata": {},
   "outputs": [
    {
     "data": {
      "text/plain": [
       "((201037, 11), (86159, 10))"
      ]
     },
     "execution_count": 3,
     "metadata": {},
     "output_type": "execute_result"
    }
   ],
   "source": [
    "train_df.shape, test_df.shape"
   ]
  },
  {
   "cell_type": "code",
   "execution_count": 4,
   "id": "8efbe567",
   "metadata": {},
   "outputs": [
    {
     "data": {
      "text/html": [
       "<div>\n",
       "<style scoped>\n",
       "    .dataframe tbody tr th:only-of-type {\n",
       "        vertical-align: middle;\n",
       "    }\n",
       "\n",
       "    .dataframe tbody tr th {\n",
       "        vertical-align: top;\n",
       "    }\n",
       "\n",
       "    .dataframe thead th {\n",
       "        text-align: right;\n",
       "    }\n",
       "</style>\n",
       "<table border=\"1\" class=\"dataframe\">\n",
       "  <thead>\n",
       "    <tr style=\"text-align: right;\">\n",
       "      <th></th>\n",
       "      <th>id</th>\n",
       "      <th>month</th>\n",
       "      <th>town</th>\n",
       "      <th>flat_type</th>\n",
       "      <th>block</th>\n",
       "      <th>street_name</th>\n",
       "      <th>storey_range</th>\n",
       "      <th>floor_area_sqm</th>\n",
       "      <th>flat_model</th>\n",
       "      <th>lease_commence_date</th>\n",
       "      <th>resale_price</th>\n",
       "    </tr>\n",
       "  </thead>\n",
       "  <tbody>\n",
       "    <tr>\n",
       "      <th>0</th>\n",
       "      <td>137901</td>\n",
       "      <td>1994-09</td>\n",
       "      <td>HOUGANG</td>\n",
       "      <td>4 ROOM</td>\n",
       "      <td>443</td>\n",
       "      <td>HOUGANG AVE 8</td>\n",
       "      <td>07 TO 09</td>\n",
       "      <td>103.0</td>\n",
       "      <td>MODEL A</td>\n",
       "      <td>1990</td>\n",
       "      <td>193000</td>\n",
       "    </tr>\n",
       "    <tr>\n",
       "      <th>1</th>\n",
       "      <td>47497</td>\n",
       "      <td>1999-06</td>\n",
       "      <td>ANG MO KIO</td>\n",
       "      <td>3 ROOM</td>\n",
       "      <td>461</td>\n",
       "      <td>ANG MO KIO AVE 10</td>\n",
       "      <td>07 TO 09</td>\n",
       "      <td>68.0</td>\n",
       "      <td>NEW GENERATION</td>\n",
       "      <td>1980</td>\n",
       "      <td>150000</td>\n",
       "    </tr>\n",
       "    <tr>\n",
       "      <th>2</th>\n",
       "      <td>250681</td>\n",
       "      <td>1995-06</td>\n",
       "      <td>BEDOK</td>\n",
       "      <td>5 ROOM</td>\n",
       "      <td>67</td>\n",
       "      <td>BEDOK STH AVE 3</td>\n",
       "      <td>07 TO 09</td>\n",
       "      <td>123.0</td>\n",
       "      <td>STANDARD</td>\n",
       "      <td>1977</td>\n",
       "      <td>340000</td>\n",
       "    </tr>\n",
       "    <tr>\n",
       "      <th>3</th>\n",
       "      <td>227426</td>\n",
       "      <td>1996-03</td>\n",
       "      <td>BEDOK</td>\n",
       "      <td>3 ROOM</td>\n",
       "      <td>530</td>\n",
       "      <td>BEDOK NTH ST 3</td>\n",
       "      <td>04 TO 06</td>\n",
       "      <td>68.0</td>\n",
       "      <td>NEW GENERATION</td>\n",
       "      <td>1979</td>\n",
       "      <td>153000</td>\n",
       "    </tr>\n",
       "    <tr>\n",
       "      <th>4</th>\n",
       "      <td>277594</td>\n",
       "      <td>1994-10</td>\n",
       "      <td>BISHAN</td>\n",
       "      <td>3 ROOM</td>\n",
       "      <td>306</td>\n",
       "      <td>SHUNFU RD</td>\n",
       "      <td>04 TO 06</td>\n",
       "      <td>71.0</td>\n",
       "      <td>NEW GENERATION</td>\n",
       "      <td>1985</td>\n",
       "      <td>116000</td>\n",
       "    </tr>\n",
       "  </tbody>\n",
       "</table>\n",
       "</div>"
      ],
      "text/plain": [
       "       id    month        town flat_type block        street_name  \\\n",
       "0  137901  1994-09     HOUGANG    4 ROOM   443      HOUGANG AVE 8   \n",
       "1   47497  1999-06  ANG MO KIO    3 ROOM   461  ANG MO KIO AVE 10   \n",
       "2  250681  1995-06       BEDOK    5 ROOM    67    BEDOK STH AVE 3   \n",
       "3  227426  1996-03       BEDOK    3 ROOM   530     BEDOK NTH ST 3   \n",
       "4  277594  1994-10      BISHAN    3 ROOM   306          SHUNFU RD   \n",
       "\n",
       "  storey_range  floor_area_sqm      flat_model  lease_commence_date  \\\n",
       "0     07 TO 09           103.0         MODEL A                 1990   \n",
       "1     07 TO 09            68.0  NEW GENERATION                 1980   \n",
       "2     07 TO 09           123.0        STANDARD                 1977   \n",
       "3     04 TO 06            68.0  NEW GENERATION                 1979   \n",
       "4     04 TO 06            71.0  NEW GENERATION                 1985   \n",
       "\n",
       "   resale_price  \n",
       "0        193000  \n",
       "1        150000  \n",
       "2        340000  \n",
       "3        153000  \n",
       "4        116000  "
      ]
     },
     "execution_count": 4,
     "metadata": {},
     "output_type": "execute_result"
    }
   ],
   "source": [
    "train_df.head()"
   ]
  },
  {
   "cell_type": "code",
   "execution_count": 5,
   "id": "3b6b3992",
   "metadata": {},
   "outputs": [
    {
     "name": "stdout",
     "output_type": "stream",
     "text": [
      "<class 'pandas.core.frame.DataFrame'>\n",
      "RangeIndex: 201037 entries, 0 to 201036\n",
      "Data columns (total 11 columns):\n",
      " #   Column               Non-Null Count   Dtype  \n",
      "---  ------               --------------   -----  \n",
      " 0   id                   201037 non-null  int64  \n",
      " 1   month                201037 non-null  object \n",
      " 2   town                 201037 non-null  object \n",
      " 3   flat_type            201037 non-null  object \n",
      " 4   block                201037 non-null  object \n",
      " 5   street_name          201037 non-null  object \n",
      " 6   storey_range         201037 non-null  object \n",
      " 7   floor_area_sqm       201037 non-null  float64\n",
      " 8   flat_model           201037 non-null  object \n",
      " 9   lease_commence_date  201037 non-null  int64  \n",
      " 10  resale_price         201037 non-null  int64  \n",
      "dtypes: float64(1), int64(3), object(7)\n",
      "memory usage: 16.9+ MB\n"
     ]
    }
   ],
   "source": [
    "train_df.info()"
   ]
  },
  {
   "cell_type": "code",
   "execution_count": 6,
   "id": "caf8b800",
   "metadata": {},
   "outputs": [
    {
     "name": "stdout",
     "output_type": "stream",
     "text": [
      "<class 'pandas.core.frame.DataFrame'>\n",
      "RangeIndex: 86159 entries, 0 to 86158\n",
      "Data columns (total 10 columns):\n",
      " #   Column               Non-Null Count  Dtype  \n",
      "---  ------               --------------  -----  \n",
      " 0   id                   86159 non-null  int64  \n",
      " 1   month                86159 non-null  object \n",
      " 2   town                 86159 non-null  object \n",
      " 3   flat_type            86159 non-null  object \n",
      " 4   block                86159 non-null  object \n",
      " 5   street_name          86159 non-null  object \n",
      " 6   storey_range         86159 non-null  object \n",
      " 7   floor_area_sqm       86159 non-null  float64\n",
      " 8   flat_model           86159 non-null  object \n",
      " 9   lease_commence_date  86159 non-null  int64  \n",
      "dtypes: float64(1), int64(2), object(7)\n",
      "memory usage: 6.6+ MB\n"
     ]
    }
   ],
   "source": [
    "test_df.info()"
   ]
  },
  {
   "cell_type": "code",
   "execution_count": 7,
   "id": "57a4cfb1",
   "metadata": {},
   "outputs": [],
   "source": [
    "# Copying data of train_df into train and test_df into test\n",
    "train = train_df.copy(deep=True)\n",
    "test = test_df.copy(deep=True)"
   ]
  },
  {
   "cell_type": "code",
   "execution_count": 8,
   "id": "b8c1e20a",
   "metadata": {},
   "outputs": [],
   "source": [
    "cat_cols = ['month','town','flat_type','block','street_name','storey_range','flat_model']"
   ]
  },
  {
   "cell_type": "code",
   "execution_count": 9,
   "id": "8d7be75e",
   "metadata": {},
   "outputs": [
    {
     "name": "stdout",
     "output_type": "stream",
     "text": [
      "Number of unique values for  month\n",
      "120\n",
      "\n",
      "\n",
      "Number of unique values for  town\n",
      "26\n",
      "\n",
      "\n",
      "Number of unique values for  flat_type\n",
      "7\n",
      "\n",
      "\n",
      "Number of unique values for  block\n",
      "1093\n",
      "\n",
      "\n",
      "Number of unique values for  street_name\n",
      "417\n",
      "\n",
      "\n",
      "Number of unique values for  storey_range\n",
      "9\n",
      "\n",
      "\n",
      "Number of unique values for  flat_model\n",
      "13\n",
      "\n",
      "\n"
     ]
    }
   ],
   "source": [
    "# Plot of value counts for each field\n",
    "\n",
    "for col in cat_cols:\n",
    "    print(\"Number of unique values for \", col)\n",
    "    print(train_df[col].nunique())\n",
    "    print('\\n')       "
   ]
  },
  {
   "cell_type": "markdown",
   "id": "027d473e",
   "metadata": {},
   "source": [
    "### Encoding categorical variables"
   ]
  },
  {
   "cell_type": "code",
   "execution_count": 10,
   "id": "a8a00d9e",
   "metadata": {},
   "outputs": [
    {
     "data": {
      "text/html": [
       "<div>\n",
       "<style scoped>\n",
       "    .dataframe tbody tr th:only-of-type {\n",
       "        vertical-align: middle;\n",
       "    }\n",
       "\n",
       "    .dataframe tbody tr th {\n",
       "        vertical-align: top;\n",
       "    }\n",
       "\n",
       "    .dataframe thead th {\n",
       "        text-align: right;\n",
       "    }\n",
       "</style>\n",
       "<table border=\"1\" class=\"dataframe\">\n",
       "  <thead>\n",
       "    <tr style=\"text-align: right;\">\n",
       "      <th></th>\n",
       "      <th>id</th>\n",
       "      <th>month</th>\n",
       "      <th>town</th>\n",
       "      <th>flat_type</th>\n",
       "      <th>block</th>\n",
       "      <th>street_name</th>\n",
       "      <th>storey_range</th>\n",
       "      <th>floor_area_sqm</th>\n",
       "      <th>flat_model</th>\n",
       "      <th>lease_commence_date</th>\n",
       "      <th>resale_price</th>\n",
       "    </tr>\n",
       "  </thead>\n",
       "  <tbody>\n",
       "    <tr>\n",
       "      <th>0</th>\n",
       "      <td>137901</td>\n",
       "      <td>56</td>\n",
       "      <td>11</td>\n",
       "      <td>3</td>\n",
       "      <td>425</td>\n",
       "      <td>152</td>\n",
       "      <td>2</td>\n",
       "      <td>103.0</td>\n",
       "      <td>5</td>\n",
       "      <td>1990</td>\n",
       "      <td>193000</td>\n",
       "    </tr>\n",
       "    <tr>\n",
       "      <th>1</th>\n",
       "      <td>47497</td>\n",
       "      <td>113</td>\n",
       "      <td>0</td>\n",
       "      <td>2</td>\n",
       "      <td>445</td>\n",
       "      <td>5</td>\n",
       "      <td>2</td>\n",
       "      <td>68.0</td>\n",
       "      <td>8</td>\n",
       "      <td>1980</td>\n",
       "      <td>150000</td>\n",
       "    </tr>\n",
       "    <tr>\n",
       "      <th>2</th>\n",
       "      <td>250681</td>\n",
       "      <td>65</td>\n",
       "      <td>1</td>\n",
       "      <td>4</td>\n",
       "      <td>719</td>\n",
       "      <td>32</td>\n",
       "      <td>2</td>\n",
       "      <td>123.0</td>\n",
       "      <td>11</td>\n",
       "      <td>1977</td>\n",
       "      <td>340000</td>\n",
       "    </tr>\n",
       "    <tr>\n",
       "      <th>3</th>\n",
       "      <td>227426</td>\n",
       "      <td>74</td>\n",
       "      <td>1</td>\n",
       "      <td>2</td>\n",
       "      <td>569</td>\n",
       "      <td>27</td>\n",
       "      <td>1</td>\n",
       "      <td>68.0</td>\n",
       "      <td>8</td>\n",
       "      <td>1979</td>\n",
       "      <td>153000</td>\n",
       "    </tr>\n",
       "    <tr>\n",
       "      <th>4</th>\n",
       "      <td>277594</td>\n",
       "      <td>57</td>\n",
       "      <td>2</td>\n",
       "      <td>2</td>\n",
       "      <td>266</td>\n",
       "      <td>305</td>\n",
       "      <td>1</td>\n",
       "      <td>71.0</td>\n",
       "      <td>8</td>\n",
       "      <td>1985</td>\n",
       "      <td>116000</td>\n",
       "    </tr>\n",
       "  </tbody>\n",
       "</table>\n",
       "</div>"
      ],
      "text/plain": [
       "       id  month  town  flat_type  block  street_name  storey_range  \\\n",
       "0  137901     56    11          3    425          152             2   \n",
       "1   47497    113     0          2    445            5             2   \n",
       "2  250681     65     1          4    719           32             2   \n",
       "3  227426     74     1          2    569           27             1   \n",
       "4  277594     57     2          2    266          305             1   \n",
       "\n",
       "   floor_area_sqm  flat_model  lease_commence_date  resale_price  \n",
       "0           103.0           5                 1990        193000  \n",
       "1            68.0           8                 1980        150000  \n",
       "2           123.0          11                 1977        340000  \n",
       "3            68.0           8                 1979        153000  \n",
       "4            71.0           8                 1985        116000  "
      ]
     },
     "execution_count": 10,
     "metadata": {},
     "output_type": "execute_result"
    }
   ],
   "source": [
    "le = preprocessing.LabelEncoder()\n",
    "\n",
    "for col in cat_cols:\n",
    "    train[col] = le.fit_transform(train[col])\n",
    "\n",
    "train.head()"
   ]
  },
  {
   "cell_type": "code",
   "execution_count": 11,
   "id": "1f7dbf9d",
   "metadata": {},
   "outputs": [
    {
     "data": {
      "text/plain": [
       "Text(0.5, 1.0, 'pearson correlation')"
      ]
     },
     "execution_count": 11,
     "metadata": {},
     "output_type": "execute_result"
    },
    {
     "data": {
      "image/png": "[encoded data removed]",
      "text/plain": [
       "<Figure size 432x288 with 2 Axes>"
      ]
     },
     "metadata": {
      "needs_background": "light"
     },
     "output_type": "display_data"
    }
   ],
   "source": [
    "corr_matrix = train.corr(method=\"pearson\")\n",
    "sns.heatmap(corr_matrix, vmin=-1., vmax=1., annot=True, fmt='.2f', cmap=\"YlGnBu\", cbar=True, linewidths=0.5)\n",
    "plt.title(\"pearson correlation\")"
   ]
  },
  {
   "cell_type": "markdown",
   "id": "aa8a39ab",
   "metadata": {},
   "source": [
    "We observe that the fields 'month', 'flat_type', 'floor_area_sqm','lease_commmence_date' and 'street_name' are of considerable importance"
   ]
  },
  {
   "cell_type": "markdown",
   "id": "cb0b00b4",
   "metadata": {},
   "source": [
    "### Splitting data into train and test data"
   ]
  },
  {
   "cell_type": "code",
   "execution_count": null,
   "id": "272ad316",
   "metadata": {},
   "outputs": [],
   "source": [
    "X = train.copy(deep=True)\n",
    "X = X.drop(columns=['resale_price'])\n",
    "y = train.resale_price\n",
    "X_train, X_test, y_train, y_test = train_test_split(X,y,test_size=0.2,random_state=42)"
   ]
  },
  {
   "cell_type": "code",
   "execution_count": null,
   "id": "caab48e1",
   "metadata": {},
   "outputs": [],
   "source": [
    "X_train.shape, X_test.shape, y_train.shape, y_test.shape"
   ]
  },
  {
   "cell_type": "code",
   "execution_count": null,
   "id": "5cb11268",
   "metadata": {},
   "outputs": [],
   "source": [
    "X_train.hist(bins = 50, figsize = (20,15))\n",
    "plt.show()"
   ]
  },
  {
   "cell_type": "markdown",
   "id": "cd084bcb",
   "metadata": {},
   "source": [
    "### Fitting the data to various models"
   ]
  },
  {
   "cell_type": "markdown",
   "id": "6cdb669e",
   "metadata": {},
   "source": [
    "#### Linear Regression"
   ]
  },
  {
   "cell_type": "code",
   "execution_count": 35,
   "id": "1e15c1fe",
   "metadata": {},
   "outputs": [
    {
     "data": {
      "text/html": [
       "<div>\n",
       "<style scoped>\n",
       "    .dataframe tbody tr th:only-of-type {\n",
       "        vertical-align: middle;\n",
       "    }\n",
       "\n",
       "    .dataframe tbody tr th {\n",
       "        vertical-align: top;\n",
       "    }\n",
       "\n",
       "    .dataframe thead th {\n",
       "        text-align: right;\n",
       "    }\n",
       "</style>\n",
       "<table border=\"1\" class=\"dataframe\">\n",
       "  <thead>\n",
       "    <tr style=\"text-align: right;\">\n",
       "      <th></th>\n",
       "      <th>id</th>\n",
       "      <th>month</th>\n",
       "      <th>town</th>\n",
       "      <th>flat_type</th>\n",
       "      <th>block</th>\n",
       "      <th>street_name</th>\n",
       "      <th>storey_range</th>\n",
       "      <th>floor_area_sqm</th>\n",
       "      <th>flat_model</th>\n",
       "      <th>lease_commence_date</th>\n",
       "    </tr>\n",
       "  </thead>\n",
       "  <tbody>\n",
       "    <tr>\n",
       "      <th>0</th>\n",
       "      <td>137901</td>\n",
       "      <td>56</td>\n",
       "      <td>11</td>\n",
       "      <td>3</td>\n",
       "      <td>425</td>\n",
       "      <td>152</td>\n",
       "      <td>2</td>\n",
       "      <td>103.0</td>\n",
       "      <td>5</td>\n",
       "      <td>1990</td>\n",
       "    </tr>\n",
       "    <tr>\n",
       "      <th>1</th>\n",
       "      <td>47497</td>\n",
       "      <td>113</td>\n",
       "      <td>0</td>\n",
       "      <td>2</td>\n",
       "      <td>445</td>\n",
       "      <td>5</td>\n",
       "      <td>2</td>\n",
       "      <td>68.0</td>\n",
       "      <td>8</td>\n",
       "      <td>1980</td>\n",
       "    </tr>\n",
       "    <tr>\n",
       "      <th>2</th>\n",
       "      <td>250681</td>\n",
       "      <td>65</td>\n",
       "      <td>1</td>\n",
       "      <td>4</td>\n",
       "      <td>719</td>\n",
       "      <td>32</td>\n",
       "      <td>2</td>\n",
       "      <td>123.0</td>\n",
       "      <td>11</td>\n",
       "      <td>1977</td>\n",
       "    </tr>\n",
       "    <tr>\n",
       "      <th>3</th>\n",
       "      <td>227426</td>\n",
       "      <td>74</td>\n",
       "      <td>1</td>\n",
       "      <td>2</td>\n",
       "      <td>569</td>\n",
       "      <td>27</td>\n",
       "      <td>1</td>\n",
       "      <td>68.0</td>\n",
       "      <td>8</td>\n",
       "      <td>1979</td>\n",
       "    </tr>\n",
       "    <tr>\n",
       "      <th>4</th>\n",
       "      <td>277594</td>\n",
       "      <td>57</td>\n",
       "      <td>2</td>\n",
       "      <td>2</td>\n",
       "      <td>266</td>\n",
       "      <td>305</td>\n",
       "      <td>1</td>\n",
       "      <td>71.0</td>\n",
       "      <td>8</td>\n",
       "      <td>1985</td>\n",
       "    </tr>\n",
       "    <tr>\n",
       "      <th>...</th>\n",
       "      <td>...</td>\n",
       "      <td>...</td>\n",
       "      <td>...</td>\n",
       "      <td>...</td>\n",
       "      <td>...</td>\n",
       "      <td>...</td>\n",
       "      <td>...</td>\n",
       "      <td>...</td>\n",
       "      <td>...</td>\n",
       "      <td>...</td>\n",
       "    </tr>\n",
       "    <tr>\n",
       "      <th>201032</th>\n",
       "      <td>175500</td>\n",
       "      <td>3</td>\n",
       "      <td>18</td>\n",
       "      <td>3</td>\n",
       "      <td>65</td>\n",
       "      <td>133</td>\n",
       "      <td>2</td>\n",
       "      <td>82.0</td>\n",
       "      <td>2</td>\n",
       "      <td>1977</td>\n",
       "    </tr>\n",
       "    <tr>\n",
       "      <th>201033</th>\n",
       "      <td>271437</td>\n",
       "      <td>104</td>\n",
       "      <td>24</td>\n",
       "      <td>5</td>\n",
       "      <td>295</td>\n",
       "      <td>380</td>\n",
       "      <td>2</td>\n",
       "      <td>192.0</td>\n",
       "      <td>1</td>\n",
       "      <td>1994</td>\n",
       "    </tr>\n",
       "    <tr>\n",
       "      <th>201034</th>\n",
       "      <td>77</td>\n",
       "      <td>71</td>\n",
       "      <td>25</td>\n",
       "      <td>3</td>\n",
       "      <td>40</td>\n",
       "      <td>405</td>\n",
       "      <td>3</td>\n",
       "      <td>104.0</td>\n",
       "      <td>5</td>\n",
       "      <td>1985</td>\n",
       "    </tr>\n",
       "    <tr>\n",
       "      <th>201035</th>\n",
       "      <td>142299</td>\n",
       "      <td>112</td>\n",
       "      <td>8</td>\n",
       "      <td>4</td>\n",
       "      <td>754</td>\n",
       "      <td>96</td>\n",
       "      <td>1</td>\n",
       "      <td>132.0</td>\n",
       "      <td>5</td>\n",
       "      <td>1995</td>\n",
       "    </tr>\n",
       "    <tr>\n",
       "      <th>201036</th>\n",
       "      <td>53822</td>\n",
       "      <td>20</td>\n",
       "      <td>1</td>\n",
       "      <td>5</td>\n",
       "      <td>770</td>\n",
       "      <td>29</td>\n",
       "      <td>3</td>\n",
       "      <td>148.0</td>\n",
       "      <td>4</td>\n",
       "      <td>1984</td>\n",
       "    </tr>\n",
       "  </tbody>\n",
       "</table>\n",
       "<p>201037 rows × 10 columns</p>\n",
       "</div>"
      ],
      "text/plain": [
       "            id  month  town  flat_type  block  street_name  storey_range  \\\n",
       "0       137901     56    11          3    425          152             2   \n",
       "1        47497    113     0          2    445            5             2   \n",
       "2       250681     65     1          4    719           32             2   \n",
       "3       227426     74     1          2    569           27             1   \n",
       "4       277594     57     2          2    266          305             1   \n",
       "...        ...    ...   ...        ...    ...          ...           ...   \n",
       "201032  175500      3    18          3     65          133             2   \n",
       "201033  271437    104    24          5    295          380             2   \n",
       "201034      77     71    25          3     40          405             3   \n",
       "201035  142299    112     8          4    754           96             1   \n",
       "201036   53822     20     1          5    770           29             3   \n",
       "\n",
       "        floor_area_sqm  flat_model  lease_commence_date  \n",
       "0                103.0           5                 1990  \n",
       "1                 68.0           8                 1980  \n",
       "2                123.0          11                 1977  \n",
       "3                 68.0           8                 1979  \n",
       "4                 71.0           8                 1985  \n",
       "...                ...         ...                  ...  \n",
       "201032            82.0           2                 1977  \n",
       "201033           192.0           1                 1994  \n",
       "201034           104.0           5                 1985  \n",
       "201035           132.0           5                 1995  \n",
       "201036           148.0           4                 1984  \n",
       "\n",
       "[201037 rows x 10 columns]"
      ]
     },
     "execution_count": 35,
     "metadata": {},
     "output_type": "execute_result"
    }
   ],
   "source": [
    "linreg = LinearRegression()\n",
    "linreg.fit(X_train, y_train)"
   ]
  },
  {
   "cell_type": "code",
   "execution_count": 36,
   "id": "cbb56bd0",
   "metadata": {},
   "outputs": [],
   "source": [
    "# Predicting y values\n",
    "y_hat_train = linreg.predict(X_train)\n",
    "y_hat_test = linreg.predict(X_test)"
   ]
  },
  {
   "cell_type": "code",
   "execution_count": 37,
   "id": "4d02bdb4",
   "metadata": {},
   "outputs": [
    {
     "name": "stdout",
     "output_type": "stream",
     "text": [
      "Train MAE: 43310.1059369778\n",
      "Test MAE: 42963.88332181087\n"
     ]
    }
   ],
   "source": [
    "# Calculating MAE\n",
    "train_mae = mean_absolute_error(y_train,y_hat_train)\n",
    "test_mae = mean_absolute_error(y_test,y_hat_test)\n",
    "print(\"Train MAE:\", train_mae)\n",
    "print(\"Test MAE:\", test_mae)"
   ]
  },
  {
   "cell_type": "markdown",
   "id": "1ac76967",
   "metadata": {},
   "source": [
    "The MAE is too high for Linear Regression"
   ]
  },
  {
   "cell_type": "markdown",
   "id": "923f7979",
   "metadata": {},
   "source": [
    "#### Decision Tree Regressor"
   ]
  },
  {
   "cell_type": "code",
   "execution_count": 47,
   "id": "d208c63d",
   "metadata": {},
   "outputs": [
    {
     "data": {
      "text/plain": [
       "DecisionTreeRegressor(max_depth=11)"
      ]
     },
     "execution_count": 47,
     "metadata": {},
     "output_type": "execute_result"
    }
   ],
   "source": [
    "model_tree = DecisionTreeRegressor(max_depth=11)\n",
    "model_tree.fit(X_train, y_train)"
   ]
  },
  {
   "cell_type": "code",
   "execution_count": 48,
   "id": "dd58343b",
   "metadata": {},
   "outputs": [],
   "source": [
    "y_hat_train = model_tree.predict(X_train)\n",
    "y_hat_test = model_tree.predict(X_test)"
   ]
  },
  {
   "cell_type": "code",
   "execution_count": 49,
   "id": "2012b64c",
   "metadata": {},
   "outputs": [
    {
     "name": "stdout",
     "output_type": "stream",
     "text": [
      "Train MAE: 16567.172266563535\n",
      "Test MAE: 17398.27314557075\n"
     ]
    }
   ],
   "source": [
    "train_mae = mean_absolute_error(y_train,y_hat_train)\n",
    "test_mae = mean_absolute_error(y_test,y_hat_test)\n",
    "print(\"Train MAE:\", train_mae)\n",
    "print(\"Test MAE:\", test_mae)"
   ]
  },
  {
   "cell_type": "markdown",
   "id": "bc2e0b0f",
   "metadata": {},
   "source": [
    "#### Gradient Boosting Regressor (Ensemble Method)"
   ]
  },
  {
   "cell_type": "code",
   "execution_count": 62,
   "id": "ce4f54c1",
   "metadata": {},
   "outputs": [],
   "source": [
    "from sklearn import ensemble\n",
    "clf2 = ensemble.GradientBoostingRegressor(n_estimators=500, max_depth=7, min_samples_split=4, learning_rate=0.1)"
   ]
  },
  {
   "cell_type": "code",
   "execution_count": 63,
   "id": "624ae3d4",
   "metadata": {},
   "outputs": [
    {
     "data": {
      "text/plain": [
       "GradientBoostingRegressor(max_depth=7, min_samples_split=4, n_estimators=500)"
      ]
     },
     "execution_count": 63,
     "metadata": {},
     "output_type": "execute_result"
    }
   ],
   "source": [
    "clf2.fit(X_train,y_train)"
   ]
  },
  {
   "cell_type": "code",
   "execution_count": 64,
   "id": "11e0e2a9",
   "metadata": {},
   "outputs": [
    {
     "name": "stdout",
     "output_type": "stream",
     "text": [
      "Train MAE: 10062.221601820955\n",
      "Test MAE: 11468.647910274289\n"
     ]
    }
   ],
   "source": [
    "y_hat_train = clf2.predict(X_train)\n",
    "y_hat_test = clf2.predict(X_test)\n",
    "\n",
    "train_mae = mean_absolute_error(y_train,y_hat_train)\n",
    "test_mae = mean_absolute_error(y_test,y_hat_test)\n",
    "print(\"Train MAE:\", train_mae)\n",
    "print(\"Test MAE:\", test_mae)"
   ]
  },
  {
   "cell_type": "markdown",
   "id": "05a4b7cb",
   "metadata": {},
   "source": [
    "#### XG Boost"
   ]
  },
  {
   "cell_type": "code",
   "execution_count": 78,
   "id": "db7673ed",
   "metadata": {},
   "outputs": [
    {
     "name": "stdout",
     "output_type": "stream",
     "text": [
      "Train MAE: 10019.581045184734\n",
      "Test MAE: 11403.631356575932\n"
     ]
    }
   ],
   "source": [
    "model = XGBRegressor(n_estimators=1000, max_depth=6, eta=0.1, subsample=0.7, colsample_bytree=0.8)\n",
    "model.fit(X_train, y_train)\n",
    "\n",
    "y_hat_train = model.predict(X_train)\n",
    "y_hat_test = model.predict(X_test)\n",
    "\n",
    "train_mae = mean_absolute_error(y_train,y_hat_train)\n",
    "test_mae = mean_absolute_error(y_test,y_hat_test)\n",
    "print(\"Train MAE:\", train_mae)\n",
    "print(\"Test MAE:\", test_mae)"
   ]
  },
  {
   "cell_type": "markdown",
   "id": "9043f808",
   "metadata": {},
   "source": [
    "Both Gradient Boosting Regressor and XG Boost give a lesser MAE than the other techniques"
   ]
  },
  {
   "cell_type": "markdown",
   "id": "0e14b597",
   "metadata": {},
   "source": [
    "### Making a model with the entire train data"
   ]
  },
  {
   "cell_type": "code",
   "execution_count": 86,
   "id": "5823df8b",
   "metadata": {},
   "outputs": [
    {
     "data": {
      "text/plain": [
       "XGBRegressor(base_score=0.5, booster='gbtree', colsample_bylevel=1,\n",
       "             colsample_bynode=1, colsample_bytree=0.8, eta=0.1, gamma=0,\n",
       "             gpu_id=-1, importance_type='gain', interaction_constraints='',\n",
       "             learning_rate=0.100000001, max_delta_step=0, max_depth=6,\n",
       "             min_child_weight=1, missing=nan, monotone_constraints='()',\n",
       "             n_estimators=1000, n_jobs=4, num_parallel_tree=1, random_state=0,\n",
       "             reg_alpha=0, reg_lambda=1, scale_pos_weight=1, subsample=0.7,\n",
       "             tree_method='exact', validate_parameters=1, verbosity=None)"
      ]
     },
     "execution_count": 86,
     "metadata": {},
     "output_type": "execute_result"
    }
   ],
   "source": [
    "model = XGBRegressor(n_estimators=1000, max_depth=6, eta=0.1, subsample=0.7, colsample_bytree=0.8)\n",
    "model.fit(X, y)"
   ]
  },
  {
   "cell_type": "markdown",
   "id": "8eee3032",
   "metadata": {},
   "source": [
    "### Submission"
   ]
  },
  {
   "cell_type": "code",
   "execution_count": 87,
   "id": "5c6f479c",
   "metadata": {},
   "outputs": [
    {
     "data": {
      "text/html": [
       "<div>\n",
       "<style scoped>\n",
       "    .dataframe tbody tr th:only-of-type {\n",
       "        vertical-align: middle;\n",
       "    }\n",
       "\n",
       "    .dataframe tbody tr th {\n",
       "        vertical-align: top;\n",
       "    }\n",
       "\n",
       "    .dataframe thead th {\n",
       "        text-align: right;\n",
       "    }\n",
       "</style>\n",
       "<table border=\"1\" class=\"dataframe\">\n",
       "  <thead>\n",
       "    <tr style=\"text-align: right;\">\n",
       "      <th></th>\n",
       "      <th>id</th>\n",
       "      <th>month</th>\n",
       "      <th>town</th>\n",
       "      <th>flat_type</th>\n",
       "      <th>block</th>\n",
       "      <th>street_name</th>\n",
       "      <th>storey_range</th>\n",
       "      <th>floor_area_sqm</th>\n",
       "      <th>flat_model</th>\n",
       "      <th>lease_commence_date</th>\n",
       "    </tr>\n",
       "  </thead>\n",
       "  <tbody>\n",
       "    <tr>\n",
       "      <th>0</th>\n",
       "      <td>5</td>\n",
       "      <td>95</td>\n",
       "      <td>23</td>\n",
       "      <td>2</td>\n",
       "      <td>1070</td>\n",
       "      <td>223</td>\n",
       "      <td>4</td>\n",
       "      <td>68.0</td>\n",
       "      <td>2</td>\n",
       "      <td>1970</td>\n",
       "    </tr>\n",
       "    <tr>\n",
       "      <th>1</th>\n",
       "      <td>6</td>\n",
       "      <td>85</td>\n",
       "      <td>12</td>\n",
       "      <td>4</td>\n",
       "      <td>565</td>\n",
       "      <td>348</td>\n",
       "      <td>0</td>\n",
       "      <td>121.0</td>\n",
       "      <td>2</td>\n",
       "      <td>1986</td>\n",
       "    </tr>\n",
       "    <tr>\n",
       "      <th>2</th>\n",
       "      <td>15</td>\n",
       "      <td>111</td>\n",
       "      <td>1</td>\n",
       "      <td>2</td>\n",
       "      <td>758</td>\n",
       "      <td>33</td>\n",
       "      <td>2</td>\n",
       "      <td>67.0</td>\n",
       "      <td>8</td>\n",
       "      <td>1978</td>\n",
       "    </tr>\n",
       "    <tr>\n",
       "      <th>3</th>\n",
       "      <td>20</td>\n",
       "      <td>65</td>\n",
       "      <td>25</td>\n",
       "      <td>2</td>\n",
       "      <td>45</td>\n",
       "      <td>400</td>\n",
       "      <td>1</td>\n",
       "      <td>68.0</td>\n",
       "      <td>8</td>\n",
       "      <td>1984</td>\n",
       "    </tr>\n",
       "    <tr>\n",
       "      <th>4</th>\n",
       "      <td>21</td>\n",
       "      <td>34</td>\n",
       "      <td>13</td>\n",
       "      <td>2</td>\n",
       "      <td>140</td>\n",
       "      <td>45</td>\n",
       "      <td>3</td>\n",
       "      <td>65.0</td>\n",
       "      <td>2</td>\n",
       "      <td>1976</td>\n",
       "    </tr>\n",
       "  </tbody>\n",
       "</table>\n",
       "</div>"
      ],
      "text/plain": [
       "   id  month  town  flat_type  block  street_name  storey_range  \\\n",
       "0   5     95    23          2   1070          223             4   \n",
       "1   6     85    12          4    565          348             0   \n",
       "2  15    111     1          2    758           33             2   \n",
       "3  20     65    25          2     45          400             1   \n",
       "4  21     34    13          2    140           45             3   \n",
       "\n",
       "   floor_area_sqm  flat_model  lease_commence_date  \n",
       "0            68.0           2                 1970  \n",
       "1           121.0           2                 1986  \n",
       "2            67.0           8                 1978  \n",
       "3            68.0           8                 1984  \n",
       "4            65.0           2                 1976  "
      ]
     },
     "execution_count": 87,
     "metadata": {},
     "output_type": "execute_result"
    }
   ],
   "source": [
    "for col in cat_cols:\n",
    "    test[col] = le.fit_transform(test[col])\n",
    "\n",
    "test.head()"
   ]
  },
  {
   "cell_type": "markdown",
   "id": "2bc8e788",
   "metadata": {},
   "source": [
    "We are making final predictions on the test dataset using XG Boost since it returned the lowest MAE"
   ]
  },
  {
   "cell_type": "code",
   "execution_count": 88,
   "id": "d7137dad",
   "metadata": {},
   "outputs": [
    {
     "data": {
      "text/html": [
       "<div>\n",
       "<style scoped>\n",
       "    .dataframe tbody tr th:only-of-type {\n",
       "        vertical-align: middle;\n",
       "    }\n",
       "\n",
       "    .dataframe tbody tr th {\n",
       "        vertical-align: top;\n",
       "    }\n",
       "\n",
       "    .dataframe thead th {\n",
       "        text-align: right;\n",
       "    }\n",
       "</style>\n",
       "<table border=\"1\" class=\"dataframe\">\n",
       "  <thead>\n",
       "    <tr style=\"text-align: right;\">\n",
       "      <th></th>\n",
       "      <th>id</th>\n",
       "      <th>resale_price</th>\n",
       "    </tr>\n",
       "  </thead>\n",
       "  <tbody>\n",
       "    <tr>\n",
       "      <th>0</th>\n",
       "      <td>5</td>\n",
       "      <td>185868.062500</td>\n",
       "    </tr>\n",
       "    <tr>\n",
       "      <th>1</th>\n",
       "      <td>6</td>\n",
       "      <td>389487.031250</td>\n",
       "    </tr>\n",
       "    <tr>\n",
       "      <th>2</th>\n",
       "      <td>15</td>\n",
       "      <td>138982.843750</td>\n",
       "    </tr>\n",
       "    <tr>\n",
       "      <th>3</th>\n",
       "      <td>20</td>\n",
       "      <td>105494.023438</td>\n",
       "    </tr>\n",
       "    <tr>\n",
       "      <th>4</th>\n",
       "      <td>21</td>\n",
       "      <td>34534.937500</td>\n",
       "    </tr>\n",
       "    <tr>\n",
       "      <th>...</th>\n",
       "      <td>...</td>\n",
       "      <td>...</td>\n",
       "    </tr>\n",
       "    <tr>\n",
       "      <th>86154</th>\n",
       "      <td>287174</td>\n",
       "      <td>30820.755859</td>\n",
       "    </tr>\n",
       "    <tr>\n",
       "      <th>86155</th>\n",
       "      <td>287182</td>\n",
       "      <td>156373.828125</td>\n",
       "    </tr>\n",
       "    <tr>\n",
       "      <th>86156</th>\n",
       "      <td>287185</td>\n",
       "      <td>227149.390625</td>\n",
       "    </tr>\n",
       "    <tr>\n",
       "      <th>86157</th>\n",
       "      <td>287188</td>\n",
       "      <td>226556.437500</td>\n",
       "    </tr>\n",
       "    <tr>\n",
       "      <th>86158</th>\n",
       "      <td>287190</td>\n",
       "      <td>47147.695312</td>\n",
       "    </tr>\n",
       "  </tbody>\n",
       "</table>\n",
       "<p>86159 rows × 2 columns</p>\n",
       "</div>"
      ],
      "text/plain": [
       "           id   resale_price\n",
       "0           5  185868.062500\n",
       "1           6  389487.031250\n",
       "2          15  138982.843750\n",
       "3          20  105494.023438\n",
       "4          21   34534.937500\n",
       "...       ...            ...\n",
       "86154  287174   30820.755859\n",
       "86155  287182  156373.828125\n",
       "86156  287185  227149.390625\n",
       "86157  287188  226556.437500\n",
       "86158  287190   47147.695312\n",
       "\n",
       "[86159 rows x 2 columns]"
      ]
     },
     "execution_count": 88,
     "metadata": {},
     "output_type": "execute_result"
    }
   ],
   "source": [
    "test_sub = pd.read_csv('test.csv')\n",
    "test_sub = test_sub.drop(['month','town','flat_type','block','street_name','storey_range','floor_area_sqm','flat_model','lease_commence_date'], axis=1)   \n",
    "pred = model.predict(test)\n",
    "test_sub['resale_price'] = pred\n",
    "test_sub"
   ]
  },
  {
   "cell_type": "code",
   "execution_count": 89,
   "id": "2aeb80e0",
   "metadata": {},
   "outputs": [],
   "source": [
    "test_sub.to_csv('submission2.csv', index=False)"
   ]
  },
  {
   "cell_type": "code",
   "execution_count": null,
   "id": "1dbf8b7a",
   "metadata": {},
   "outputs": [],
   "source": []
  }
 ],
 "metadata": {
  "kernelspec": {
   "display_name": "Python 3",
   "language": "python",
   "name": "python3"
  },
  "language_info": {
   "codemirror_mode": {
    "name": "ipython",
    "version": 3
   },
   "file_extension": ".py",
   "mimetype": "text/x-python",
   "name": "python",
   "nbconvert_exporter": "python",
   "pygments_lexer": "ipython3",
   "version": "3.8.8"
  }
 },
 "nbformat": 4,
 "nbformat_minor": 5
}
